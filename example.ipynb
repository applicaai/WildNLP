{
 "cells": [
  {
   "cell_type": "code",
   "execution_count": null,
   "metadata": {
    "ExecuteTime": {
     "end_time": "2019-06-27T12:26:52.797448Z",
     "start_time": "2019-06-27T12:26:52.793019Z"
    }
   },
   "outputs": [],
   "source": [
    "from wildnlp.aspects.utils import compose, change_model_prediction, change_most_important_word, change_random_word\n",
    "from wildnlp.aspects import QWERTY, Swap, SwapWords\n",
    "from wildnlp.datasets import SampleDataset\n",
    "from wildnlp.aspects.selector import EmbeddingSelector\n",
    "from wildnlp.aspects.word_creator import HypernymCreator, SynonymCreator\n",
    "from flair.embeddings import BertEmbeddings"
   ]
  },
  {
   "cell_type": "markdown",
   "metadata": {},
   "source": [
    "# Basic example"
   ]
  },
  {
   "cell_type": "code",
   "execution_count": null,
   "metadata": {
    "ExecuteTime": {
     "end_time": "2019-06-27T10:27:10.004794Z",
     "start_time": "2019-06-27T10:27:09.985744Z"
    }
   },
   "outputs": [],
   "source": [
    "# Create a dataset object and load the dataset\n",
    "dataset = SampleDataset()\n",
    "dataset.load()\n",
    "\n",
    "\n",
    "# Create a composed corruptor function.\n",
    "# Functions will be applied in the same order they appear.\n",
    "composed = compose(Swap(), QWERTY())\n",
    "\n",
    "# Apply the function to the dataset\n",
    "modified = dataset.apply(composed)\n",
    "modified"
   ]
  },
  {
   "cell_type": "code",
   "execution_count": null,
   "metadata": {
    "ExecuteTime": {
     "end_time": "2019-06-27T10:27:10.023896Z",
     "start_time": "2019-06-27T10:27:10.006863Z"
    }
   },
   "outputs": [],
   "source": [
    "# Pass the str as argument\n",
    "composed(\"Example sentence to change\")"
   ]
  },
  {
   "cell_type": "markdown",
   "metadata": {},
   "source": [
    "# Swap words example"
   ]
  },
  {
   "cell_type": "code",
   "execution_count": null,
   "metadata": {
    "ExecuteTime": {
     "end_time": "2019-06-27T10:27:22.586672Z",
     "start_time": "2019-06-27T10:27:10.026544Z"
    }
   },
   "outputs": [],
   "source": [
    "from wildnlp.aspects.word_creator import HypernymCreator, SynonymCreator\n",
    "from wildnlp.aspects.selector import EmbeddingSelector\n",
    "\n",
    "# Prepare embeddings\n",
    "embedding =  BertEmbeddings()\n",
    "\n",
    "# Prepare selector\n",
    "selector = EmbeddingSelector(embedding)"
   ]
  },
  {
   "cell_type": "code",
   "execution_count": null,
   "metadata": {
    "ExecuteTime": {
     "end_time": "2019-06-27T10:27:31.628489Z",
     "start_time": "2019-06-27T10:27:22.590353Z"
    }
   },
   "outputs": [],
   "source": [
    "# Create SwapWords with hypernyms\n",
    "composed = compose(SwapWords(word_creator=HypernymCreator(),pos_to_change=['a', 'v', 'r'], selector=selector, \n",
    "                             words_percentage=1), )\n",
    "\n",
    "composed(\"Be careful, this is very dangerous lion, he can hurt someone\")"
   ]
  },
  {
   "cell_type": "code",
   "execution_count": null,
   "metadata": {
    "ExecuteTime": {
     "end_time": "2019-06-27T10:27:31.796956Z",
     "start_time": "2019-06-27T10:27:31.630765Z"
    }
   },
   "outputs": [],
   "source": [
    "# Create SwapWords with synonyms\n",
    "composed = compose(SwapWords(word_creator=SynonymCreator(),pos_to_change=['a', 'v', 'r'], selector=selector, \n",
    "                             words_percentage=1), )\n",
    "\n",
    "composed(\"Be careful, this is very dangerous lion, he can hurt someone\")"
   ]
  },
  {
   "cell_type": "markdown",
   "metadata": {},
   "source": [
    "# Additional functions"
   ]
  },
  {
   "cell_type": "code",
   "execution_count": null,
   "metadata": {
    "ExecuteTime": {
     "end_time": "2019-06-27T12:23:53.672674Z",
     "start_time": "2019-06-27T12:23:34.193981Z"
    }
   },
   "outputs": [],
   "source": [
    "from flair.models import TextClassifier\n",
    "from flair.data import Sentence\n",
    "\n",
    "# Load flair sentiment classifier\n",
    "classifier = TextClassifier.load('en-sentiment')"
   ]
  },
  {
   "cell_type": "code",
   "execution_count": null,
   "metadata": {
    "ExecuteTime": {
     "end_time": "2019-06-27T12:24:08.866100Z",
     "start_time": "2019-06-27T12:24:08.855118Z"
    }
   },
   "outputs": [],
   "source": [
    "from torch import nn\n",
    "from typing import Callable, List\n",
    "import numpy as np\n",
    "from flair.training_utils import clear_embeddings\n",
    "\n",
    "# Prepare model pipeline\n",
    "def create_classify_flair(model: nn.Module) -> \\\n",
    "        Callable[[List[str]], np.array]:\n",
    "   \n",
    "    def classify(user_input: List[str]) -> np.array:\n",
    "        mini_batch_size = 32\n",
    "        model.eval()\n",
    "        sentences = [Sentence(text) for text in user_input]\n",
    "        for i, s in enumerate(sentences):\n",
    "            s.add_label(str(i))\n",
    "        batches = [sentences[i:i + mini_batch_size] for i in range(0, len(sentences), mini_batch_size)]\n",
    "        pred = []\n",
    "        for batch in batches:\n",
    "            output = model(batch)\n",
    "            indices = [int(s.get_label_names()[0]) for s in batch]\n",
    "            pred_batch = output.cpu().data.numpy()\n",
    "            pred_batch = [(np.exp(p) / np.sum(np.exp(p))) for p in pred_batch] \n",
    "            pred_batch = [x for _, x in sorted(zip(indices, pred_batch), key=lambda pair: pair[0])]\n",
    "            pred += pred_batch\n",
    "            clear_embeddings(batch)\n",
    "        proba = np.array(pred)\n",
    "        return proba\n",
    "    return classify\n",
    "\n",
    "\n",
    "pipeline = create_classify_flair(classifier)"
   ]
  },
  {
   "cell_type": "code",
   "execution_count": null,
   "metadata": {
    "ExecuteTime": {
     "end_time": "2019-06-27T12:24:11.155799Z",
     "start_time": "2019-06-27T12:24:11.113428Z"
    }
   },
   "outputs": [],
   "source": [
    "text = 'This is very good option, but have bad consequences'\n",
    "label = 0\n",
    "\n",
    "pipeline([text])"
   ]
  },
  {
   "cell_type": "markdown",
   "metadata": {},
   "source": [
    "# Change most important"
   ]
  },
  {
   "cell_type": "code",
   "execution_count": null,
   "metadata": {
    "ExecuteTime": {
     "end_time": "2019-06-27T12:24:12.499423Z",
     "start_time": "2019-06-27T12:24:12.453404Z"
    }
   },
   "outputs": [],
   "source": [
    "change_most_important_word(text, label, pipeline, QWERTY(), if_percent=False, how_many=1)"
   ]
  },
  {
   "cell_type": "markdown",
   "metadata": {},
   "source": [
    "# Change model prediction"
   ]
  },
  {
   "cell_type": "code",
   "execution_count": null,
   "metadata": {
    "ExecuteTime": {
     "end_time": "2019-06-27T12:24:15.427764Z",
     "start_time": "2019-06-27T12:24:15.268994Z"
    }
   },
   "outputs": [],
   "source": [
    "change_model_prediction(text, label, pipeline, [QWERTY(), Swap()], verbose=True)"
   ]
  },
  {
   "cell_type": "markdown",
   "metadata": {},
   "source": [
    "# Change random word"
   ]
  },
  {
   "cell_type": "code",
   "execution_count": null,
   "metadata": {
    "ExecuteTime": {
     "end_time": "2019-06-27T12:27:18.001069Z",
     "start_time": "2019-06-27T12:27:17.995773Z"
    }
   },
   "outputs": [],
   "source": [
    "change_random_word(text, QWERTY(), if_percent=False, how_many=3, seed=23)"
   ]
  }
 ],
 "metadata": {
  "kernelspec": {
   "display_name": "Python [conda env:mgr_env] *",
   "language": "python",
   "name": "conda-env-mgr_env-py"
  },
  "language_info": {
   "codemirror_mode": {
    "name": "ipython",
    "version": 3
   },
   "file_extension": ".py",
   "mimetype": "text/x-python",
   "name": "python",
   "nbconvert_exporter": "python",
   "pygments_lexer": "ipython3",
   "version": "3.7.5"
  }
 },
 "nbformat": 4,
 "nbformat_minor": 2
}
